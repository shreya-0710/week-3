{
 "cells": [
  {
   "cell_type": "markdown",
   "metadata": {
    "collapsed": true
   },
   "source": [
    "# WEEK 1: The Battle of Neighborhoods"
   ]
  },
  {
   "cell_type": "markdown",
   "metadata": {},
   "source": [
    "## PART 1: Introduction "
   ]
  },
  {
   "cell_type": "markdown",
   "metadata": {},
   "source": [
    "#### 1. Importing important libraries"
   ]
  },
  {
   "cell_type": "code",
   "execution_count": 2,
   "metadata": {},
   "outputs": [
    {
     "name": "stdout",
     "output_type": "stream",
     "text": [
      "Libraries imported.\n"
     ]
    }
   ],
   "source": [
    "import numpy as np \n",
    "import time\n",
    "import pandas as pd\n",
    "pd.set_option('display.max_columns', None)\n",
    "pd.set_option('display.max_rows', None)\n",
    "\n",
    "import json \n",
    "import requests \n",
    "from pandas.io.json import json_normalize \n",
    "\n",
    "from geopy.geocoders import Nominatim \n",
    "\n",
    "\n",
    "print('Libraries imported.')"
   ]
  },
  {
   "cell_type": "markdown",
   "metadata": {},
   "source": [
    "### Scenario:\n",
    "I am a data scientist residing in Downtown Singapore. I currently live within walking distance to Downtown Telok Ayer MRT metro station and I enjoy many ammenities and venues in the area, such as various international cousine restaurants, cafes, food shops and entertainment. I have been offered a great opportunity to work for a leader firm in Manhattan, NY. I am very excited and I want to use this opportunity to practice my learnings in Coursera in order to answer relevant questions arisen. The key question is : How can I find a convenient and enjoyable place similar to mine now in Singapore? Certainly, I can use available real estate apps and Google but the idea is to use and apply myself the learned tools during the course. In order to make a comparison and evaluation of the rental options in Manhattan NY, I must set some basis, therefore the apartment in Manhattan must meet the following demands:\n",
    "\n",
    "-apartment must be 2 or 3 bedrooms, desired location is near a metro station in the Manhattan area and within 1.0 mile (1.6 km) radius, price of rent not exceed $7,000 per month, top ammenities in the selected neighborhood shall be similar to current residence and desirable to have venues such as coffee shops, restaurants Asian Thai, wine stores, gym and food shops. \n",
    "\n",
    "### Business Problem:\n",
    "The challenge is to find a suitable apartment for rent in Manhattan NY that complies with the demands on location, price and venues. The data required to resolve this challenge is described in the following section 2, below.\n",
    "\n",
    "### Interested Audience\n",
    "I believe this is a relevant challenge with valid questions for anyone moving to other large city in US, EU or Asia. The same methodology can be applied in accordance to demands as applicable. This case is also applicable for anyone interested in exploring starting or locating a new business in any city. Lastly, it can also serve as a good practical exercise to develop Data Science skills."
   ]
  },
  {
   "cell_type": "markdown",
   "metadata": {},
   "source": [
    "## PART 2: Data sections"
   ]
  },
  {
   "cell_type": "markdown",
   "metadata": {},
   "source": [
    "#### Description of the Data:\n",
    "###### The following data is required to answer the issues of the problem:\n",
    "List of Boroughs and neighborhoods of Manhattan with their geodata (latitud and longitud)\n",
    "List of Subway metro stations in Manhattan with their address location\n",
    "List of apartments for rent in Manhattan area with their addresses and price\n",
    "Preferably, a list of apartment for rent with additional information, such as price, address, area, # of beds, etc\n",
    "Venues for each Manhattan neighborhood ( than can be clustered)\n",
    "Venues for subway metro stations, as needed\n",
    "\n",
    "#### How the data will be used to solve the problem\n",
    "###### The data will be used as follows:\n",
    "Use Foursquare and geopy data to map top 10 venues for all Manhattan neighborhoods and clustered in groups ( as per Course LAB)\n",
    "Use foursquare and geopy data to map the location of subway metro stations , separately and on top of the above clustered map in order to be able to identify the venues and ammenities near each metro station, or explore each subway location separately\n",
    "Use Foursquare and geopy data to map the location of rental places, in some form, linked to the subway locations.\n",
    "create a map that depicts, for instance, the average rental price per square ft, around a radious of 1.0 mile (1.6 km) around each subway station - or a similar metrics. I will be able to quickly point to the popups to know the relative price per subway area.\n",
    "Addresses from rental locations will be converted to geodata( lat, long) using Geopy-distance and Nominatim.\n",
    "Data will be searched in open data sources if available, from real estate sites if open to reading, libraries or other government agencies such as Metro New York MTA, etc.\n",
    "The procesing of these DATA will allow to answer the key questions to make a decision:\n",
    "what is the cost of rent (per square ft) around a mile radius from each subway metro station?\n",
    "what is the area of Manhattan with best rental pricing that meets criteria established?\n",
    "What is the distance from work place ( Park Ave and 53 rd St) and the tentative future home?\n",
    "What are the venues of the two best places to live? How the prices compare?\n",
    "How venues distribute among Manhattan neighborhoods and around metro stations?\n",
    "Are there tradeoffs between size and price and location?\n",
    "Any other interesting statistical data findings of the real estate and overall data."
   ]
  },
  {
   "cell_type": "markdown",
   "metadata": {},
   "source": [
    "Reference of venues around current residence in Singapore for comparison to Manhattan place:"
   ]
  },
  {
   "cell_type": "code",
   "execution_count": 3,
   "metadata": {},
   "outputs": [
    {
     "name": "stderr",
     "output_type": "stream",
     "text": [
      "/opt/conda/envs/Python36/lib/python3.6/site-packages/ipykernel/__main__.py:4: DeprecationWarning: Using Nominatim with the default \"geopy/1.18.1\" `user_agent` is strongly discouraged, as it violates Nominatim's ToS https://operations.osmfoundation.org/policies/nominatim/ and may possibly cause 403 and 429 HTTP errors. Please specify a custom `user_agent` with `Nominatim(user_agent=\"my-application\")` or by overriding the default `user_agent`: `geopy.geocoders.options.default_user_agent = \"my-application\"`. In geopy 2.0 this will become an exception.\n"
     ]
    },
    {
     "name": "stdout",
     "output_type": "stream",
     "text": [
      "The geograpical coordinate of Singapore home are 1.2784801, 103.8493717.\n"
     ]
    }
   ],
   "source": [
    "# Shenton Way, District 01, Singapore\n",
    "address = 'Mccallum Street, Singapore'\n",
    "\n",
    "geolocator = Nominatim()\n",
    "location = geolocator.geocode(address)\n",
    "latitude = location.latitude\n",
    "longitude = location.longitude\n",
    "print('The geograpical coordinate of Singapore home are {}, {}.'.format(latitude, longitude))"
   ]
  },
  {
   "cell_type": "code",
   "execution_count": 4,
   "metadata": {},
   "outputs": [],
   "source": [
    "neighborhood_latitude=1.2792655\n",
    "neighborhood_longitude=103.8480938"
   ]
  },
  {
   "cell_type": "code",
   "execution_count": 9,
   "metadata": {},
   "outputs": [
    {
     "data": {
      "text/plain": [
       "'https://api.foursquare.com/v2/venues/explore?&client_id=DVCTZDPDYXTS0BRJFPLMHM323APGXNWZI5PLRQ1VC0CFLF1T&client_secret=5NWAGXRLXIXAV0L3DNYY1EPIHNMAAAIZFDFELYSYXL5LFWL1&v=20180605&ll=1.2792655,103.8480938&radius=500&limit=100'"
      ]
     },
     "execution_count": 9,
     "metadata": {},
     "output_type": "execute_result"
    }
   ],
   "source": [
    "\n",
    "LIMIT = 100 \n",
    "radius = 500 \n",
    "url = 'https://api.foursquare.com/v2/venues/explore?&client_id=DVCTZDPDYXTS0BRJFPLMHM323APGXNWZI5PLRQ1VC0CFLF1T&client_secret=5NWAGXRLXIXAV0L3DNYY1EPIHNMAAAIZFDFELYSYXL5LFWL1&v=20180605&ll=1.2792655,103.8480938&radius=500&limit=100'\n",
    "url "
   ]
  },
  {
   "cell_type": "code",
   "execution_count": 10,
   "metadata": {},
   "outputs": [],
   "source": [
    "results = requests.get(url).json()"
   ]
  },
  {
   "cell_type": "code",
   "execution_count": 11,
   "metadata": {},
   "outputs": [],
   "source": [
    "#Catogaries:\n",
    "def get_category_type(row):\n",
    "    try:\n",
    "        categories_list = row['categories']\n",
    "    except:\n",
    "        categories_list = row['venue.categories']\n",
    "        \n",
    "    if len(categories_list) == 0:\n",
    "        return None\n",
    "    else:\n",
    "        return categories_list[0]['name']"
   ]
  },
  {
   "cell_type": "code",
   "execution_count": 12,
   "metadata": {},
   "outputs": [
    {
     "data": {
      "text/html": [
       "<div>\n",
       "<style scoped>\n",
       "    .dataframe tbody tr th:only-of-type {\n",
       "        vertical-align: middle;\n",
       "    }\n",
       "\n",
       "    .dataframe tbody tr th {\n",
       "        vertical-align: top;\n",
       "    }\n",
       "\n",
       "    .dataframe thead th {\n",
       "        text-align: right;\n",
       "    }\n",
       "</style>\n",
       "<table border=\"1\" class=\"dataframe\">\n",
       "  <thead>\n",
       "    <tr style=\"text-align: right;\">\n",
       "      <th></th>\n",
       "      <th>name</th>\n",
       "      <th>categories</th>\n",
       "      <th>lat</th>\n",
       "      <th>lng</th>\n",
       "    </tr>\n",
       "  </thead>\n",
       "  <tbody>\n",
       "    <tr>\n",
       "      <th>0</th>\n",
       "      <td>Napoleon Food &amp; Wine Bar</td>\n",
       "      <td>Wine Bar</td>\n",
       "      <td>1.279925</td>\n",
       "      <td>103.847333</td>\n",
       "    </tr>\n",
       "    <tr>\n",
       "      <th>1</th>\n",
       "      <td>Native</td>\n",
       "      <td>Cocktail Bar</td>\n",
       "      <td>1.280135</td>\n",
       "      <td>103.846844</td>\n",
       "    </tr>\n",
       "    <tr>\n",
       "      <th>2</th>\n",
       "      <td>Freehouse</td>\n",
       "      <td>Beer Garden</td>\n",
       "      <td>1.281254</td>\n",
       "      <td>103.848513</td>\n",
       "    </tr>\n",
       "    <tr>\n",
       "      <th>3</th>\n",
       "      <td>Sofitel So Singapore</td>\n",
       "      <td>Hotel</td>\n",
       "      <td>1.280017</td>\n",
       "      <td>103.849813</td>\n",
       "    </tr>\n",
       "    <tr>\n",
       "      <th>4</th>\n",
       "      <td>Park Bench Deli</td>\n",
       "      <td>Deli / Bodega</td>\n",
       "      <td>1.279872</td>\n",
       "      <td>103.847287</td>\n",
       "    </tr>\n",
       "    <tr>\n",
       "      <th>5</th>\n",
       "      <td>Pepper Bowl</td>\n",
       "      <td>Asian Restaurant</td>\n",
       "      <td>1.279371</td>\n",
       "      <td>103.846710</td>\n",
       "    </tr>\n",
       "    <tr>\n",
       "      <th>6</th>\n",
       "      <td>Meat Smith</td>\n",
       "      <td>Southern / Soul Food Restaurant</td>\n",
       "      <td>1.280205</td>\n",
       "      <td>103.847410</td>\n",
       "    </tr>\n",
       "    <tr>\n",
       "      <th>7</th>\n",
       "      <td>Mellower Coffee</td>\n",
       "      <td>Café</td>\n",
       "      <td>1.277814</td>\n",
       "      <td>103.848188</td>\n",
       "    </tr>\n",
       "    <tr>\n",
       "      <th>8</th>\n",
       "      <td>PS.Cafe</td>\n",
       "      <td>Café</td>\n",
       "      <td>1.280468</td>\n",
       "      <td>103.846264</td>\n",
       "    </tr>\n",
       "    <tr>\n",
       "      <th>9</th>\n",
       "      <td>Anglo Indian Cafe &amp; Bar</td>\n",
       "      <td>Indian Restaurant</td>\n",
       "      <td>1.279084</td>\n",
       "      <td>103.850127</td>\n",
       "    </tr>\n",
       "  </tbody>\n",
       "</table>\n",
       "</div>"
      ],
      "text/plain": [
       "                       name                       categories       lat  \\\n",
       "0  Napoleon Food & Wine Bar                         Wine Bar  1.279925   \n",
       "1                    Native                     Cocktail Bar  1.280135   \n",
       "2                 Freehouse                      Beer Garden  1.281254   \n",
       "3      Sofitel So Singapore                            Hotel  1.280017   \n",
       "4           Park Bench Deli                    Deli / Bodega  1.279872   \n",
       "5               Pepper Bowl                 Asian Restaurant  1.279371   \n",
       "6                Meat Smith  Southern / Soul Food Restaurant  1.280205   \n",
       "7           Mellower Coffee                             Café  1.277814   \n",
       "8                   PS.Cafe                             Café  1.280468   \n",
       "9   Anglo Indian Cafe & Bar                Indian Restaurant  1.279084   \n",
       "\n",
       "          lng  \n",
       "0  103.847333  \n",
       "1  103.846844  \n",
       "2  103.848513  \n",
       "3  103.849813  \n",
       "4  103.847287  \n",
       "5  103.846710  \n",
       "6  103.847410  \n",
       "7  103.848188  \n",
       "8  103.846264  \n",
       "9  103.850127  "
      ]
     },
     "execution_count": 12,
     "metadata": {},
     "output_type": "execute_result"
    }
   ],
   "source": [
    "venues = results['response']['groups'][0]['items']\n",
    "    \n",
    "SGnearby_venues = json_normalize(venues) \n",
    "\n",
    "filtered_columns = ['venue.name', 'venue.categories', 'venue.location.lat', 'venue.location.lng']\n",
    "SGnearby_venues =SGnearby_venues.loc[:, filtered_columns]\n",
    "\n",
    "SGnearby_venues['venue.categories'] = SGnearby_venues.apply(get_category_type, axis=1)\n",
    "\n",
    "SGnearby_venues.columns = [col.split(\".\")[-1] for col in SGnearby_venues.columns]\n",
    "\n",
    "SGnearby_venues.head(10)"
   ]
  },
  {
   "cell_type": "code",
   "execution_count": null,
   "metadata": {},
   "outputs": [],
   "source": []
  }
 ],
 "metadata": {
  "kernelspec": {
   "display_name": "Python 3.6",
   "language": "python",
   "name": "python3"
  },
  "language_info": {
   "codemirror_mode": {
    "name": "ipython",
    "version": 3
   },
   "file_extension": ".py",
   "mimetype": "text/x-python",
   "name": "python",
   "nbconvert_exporter": "python",
   "pygments_lexer": "ipython3",
   "version": "3.6.9"
  }
 },
 "nbformat": 4,
 "nbformat_minor": 1
}
